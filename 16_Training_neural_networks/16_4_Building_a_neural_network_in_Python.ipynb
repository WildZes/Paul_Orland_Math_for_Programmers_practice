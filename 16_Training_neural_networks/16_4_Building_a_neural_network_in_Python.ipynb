{
  "nbformat": 4,
  "nbformat_minor": 0,
  "metadata": {
    "colab": {
      "provenance": []
    },
    "kernelspec": {
      "name": "python3",
      "display_name": "Python 3"
    },
    "language_info": {
      "name": "python"
    }
  },
  "cells": [
    {
      "cell_type": "code",
      "execution_count": 42,
      "metadata": {
        "id": "mrExDoBNQQM5"
      },
      "outputs": [],
      "source": [
        "# Exercise 16.10—Mini Project\n",
        "import numpy as np\n",
        "import math\n",
        "\n",
        "def sigmoid(x):\n",
        "  return 1 / (1 + math.exp(-x))\n",
        "\n",
        "class MLP():\n",
        "  def __init__(self,layer_sizes):\n",
        "    self.layer_sizes = layer_sizes\n",
        "    self.weights = [np.random.rand(n,m) for m,n in zip(layer_sizes[:-1], layer_sizes[1:])]\n",
        "    self.biases = [np.random.rand(n) for n in layer_sizes[1:]]\n",
        "\n",
        "  def feedforward(self,v):\n",
        "    activations = []\n",
        "    a = v\n",
        "    activations.append(a)\n",
        "    for w,b in zip(self.weights, self.biases):\n",
        "      z = [0] * len(b)\n",
        "      for w_row in range(len(w)):\n",
        "        for a_row in range(len(a)):\n",
        "          z[w_row] += w[w_row][a_row] * a[a_row]\n",
        "      z += b\n",
        "      a = [sigmoid(x) for x in z]\n",
        "      activations.append(a)\n",
        "    return activations\n",
        "\n",
        "  def evaluate(self,v):\n",
        "    return np.array(self.feedforward(v)[-1])"
      ]
    },
    {
      "cell_type": "code",
      "source": [
        "# 3x3 matrix\n",
        "X = [[12,7,3],\n",
        "    [4 ,5,6],\n",
        "    [7 ,8,9]]\n",
        "# 3x4 matrix\n",
        "Y = [[5,8,1,2],\n",
        "    [6,7,3,0],\n",
        "    [4,5,9,1]]\n",
        "# result is 3x4\n",
        "result = [[0,0,0,0],\n",
        "         [0,0,0,0],\n",
        "         [0,0,0,0]]\n",
        "\n",
        "# iterate through rows of X\n",
        "for i in range(len(X)):\n",
        "   # iterate through columns of Y\n",
        "   for j in range(len(Y[0])):\n",
        "       # iterate through rows of Y\n",
        "       for k in range(len(Y)):\n",
        "           result[i][j] += X[i][k] * Y[k][j]"
      ],
      "metadata": {
        "colab": {
          "base_uri": "https://localhost:8080/"
        },
        "id": "vftD_xyhRA0u",
        "outputId": "1e1cc0ac-00c8-4618-909e-6f5c947b6f72"
      },
      "execution_count": 4,
      "outputs": [
        {
          "output_type": "stream",
          "name": "stdout",
          "text": [
            "[array([0.26925716, 0.82186961]), array([0.89200635, 0.78114951, 0.68957211])]\n"
          ]
        }
      ]
    },
    {
      "cell_type": "code",
      "source": [
        "from sklearn import datasets\n",
        "digits = datasets.load_digits()\n",
        "nn = MLP([64,16,10])\n",
        "v = np.matrix.flatten(digits.images[0]) / 15.\n",
        "nn.evaluate(v)"
      ],
      "metadata": {
        "colab": {
          "base_uri": "https://localhost:8080/"
        },
        "id": "a--QT8ZjchWx",
        "outputId": "99ecf10c-e655-4b54-ea45-8897fed666be"
      },
      "execution_count": 43,
      "outputs": [
        {
          "output_type": "execute_result",
          "data": {
            "text/plain": [
              "array([0.99993552, 0.99975367, 0.9997031 , 0.99960821, 0.99953092,\n",
              "       0.99765306, 0.9997866 , 0.9998403 , 0.99973215, 0.99995032])"
            ]
          },
          "metadata": {},
          "execution_count": 43
        }
      ]
    },
    {
      "cell_type": "code",
      "source": [],
      "metadata": {
        "id": "IOmaiaBmgSX6"
      },
      "execution_count": null,
      "outputs": []
    }
  ]
}