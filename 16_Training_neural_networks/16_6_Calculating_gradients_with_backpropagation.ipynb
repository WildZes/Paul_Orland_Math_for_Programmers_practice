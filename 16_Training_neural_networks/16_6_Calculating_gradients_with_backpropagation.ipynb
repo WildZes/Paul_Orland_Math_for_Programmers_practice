{
  "nbformat": 4,
  "nbformat_minor": 0,
  "metadata": {
    "colab": {
      "provenance": []
    },
    "kernelspec": {
      "name": "python3",
      "display_name": "Python 3"
    },
    "language_info": {
      "name": "python"
    }
  },
  "cells": [
    {
      "cell_type": "code",
      "execution_count": 6,
      "metadata": {
        "colab": {
          "base_uri": "https://localhost:8080/"
        },
        "id": "xMhWJ49pDxKM",
        "outputId": "ffd12713-90a4-4965-b08b-708c6b4d534b"
      },
      "outputs": [
        {
          "output_type": "execute_result",
          "data": {
            "text/plain": [
              "(1/(1 + exp(-x)), 1/(4*cosh(x/2)**2), 1/(4*cosh(x/2)**2))"
            ]
          },
          "metadata": {},
          "execution_count": 6
        }
      ],
      "source": [
        "# Exercise 16.14—Mini Project\n",
        "import sympy\n",
        "from sympy import diff, exp, simplify\n",
        "from sympy.abc import x\n",
        "\n",
        "expr = 1 / (1 + exp(-x))\n",
        "expr, simplify(diff(expr, x)), simplify(expr * (1 - expr))"
      ]
    },
    {
      "cell_type": "code",
      "source": [],
      "metadata": {
        "id": "Vp7FsZXBGOCG"
      },
      "execution_count": null,
      "outputs": []
    }
  ]
}