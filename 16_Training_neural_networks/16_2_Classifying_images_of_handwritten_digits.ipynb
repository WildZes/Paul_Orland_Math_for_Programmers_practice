{
  "nbformat": 4,
  "nbformat_minor": 0,
  "metadata": {
    "colab": {
      "provenance": []
    },
    "kernelspec": {
      "name": "python3",
      "display_name": "Python 3"
    },
    "language_info": {
      "name": "python"
    }
  },
  "cells": [
    {
      "cell_type": "code",
      "execution_count": null,
      "metadata": {
        "colab": {
          "base_uri": "https://localhost:8080/"
        },
        "id": "lWli4cwA5RD9",
        "outputId": "a3f28de4-0b2e-4dfe-b9fe-4b51cc173507"
      },
      "outputs": [
        {
          "output_type": "execute_result",
          "data": {
            "text/plain": [
              "4"
            ]
          },
          "metadata": {},
          "execution_count": 2
        }
      ],
      "source": [
        "# Exercise 16.1\n",
        "import numpy as np\n",
        "v = np.array([5.00512567e-06, 3.94168539e-05, 5.57124430e-09, 9.31981207e-09,\n",
        "9.98060276e-01, 9.10328786e-07, 1.56262695e-03, 1.82976466e-04,\n",
        "1.48519455e-04, 2.54354113e-07])\n",
        "list(v).index(max(list(v)))"
      ]
    },
    {
      "cell_type": "markdown",
      "source": [
        "Solution from the book  \n",
        "The largest number in this array is 9.98060276e–01, or approxi-\n",
        "mately 0.998, which appears fifth, or in index 4. Therefore, this output says the  \n",
        "  \n",
        "image is classified as a 4."
      ],
      "metadata": {
        "id": "yy4EUZGL6GHC"
      }
    },
    {
      "cell_type": "code",
      "source": [
        "# Exercise 16.2—Mini Project\n",
        "import matplotlib.pyplot as plt\n",
        "from sklearn import datasets\n",
        "digits = datasets.load_digits()\n",
        "nines = 0\n",
        "zeros = np.zeros(64)\n",
        "\n",
        "for target in digits.target:\n",
        "  if target == 9:\n",
        "    nines += 1\n",
        "for img, target in zip(digits.images, digits.target):\n",
        "  if target == 9:\n",
        "    tmp = np.matrix.flatten(img) / 15.\n",
        "    zeros += tmp/nines\n",
        "\n",
        "zeros = zeros * 15\n",
        "zeros = zeros.reshape(8,8)\n",
        "plt.imshow(zeros, cmap=plt.cm.gray_r)"
      ],
      "metadata": {
        "colab": {
          "base_uri": "https://localhost:8080/",
          "height": 282
        },
        "id": "HL0g_FQt5vOi",
        "outputId": "67bd7eef-abd9-4b68-bf65-1396d595f8ba"
      },
      "execution_count": null,
      "outputs": [
        {
          "output_type": "execute_result",
          "data": {
            "text/plain": [
              "<matplotlib.image.AxesImage at 0x7fde13276940>"
            ]
          },
          "metadata": {},
          "execution_count": 10
        },
        {
          "output_type": "display_data",
          "data": {
            "text/plain": [
              "<Figure size 432x288 with 1 Axes>"
            ],
            "image/png": "[encoded data removed]"
          },
          "metadata": {
            "needs_background": "light"
          }
        }
      ]
    },
    {
      "cell_type": "code",
      "source": [
        "# Solution from the book\n",
        "def average_img(i):\n",
        "  imgs = [img for img,target in zip(digits.images, digits.target) if target==i]\n",
        "  return sum(imgs) / len(imgs)\n",
        "plt.imshow(average_img(9), cmap=plt.cm.gray_r)"
      ],
      "metadata": {
        "colab": {
          "base_uri": "https://localhost:8080/",
          "height": 282
        },
        "id": "Qmna2iuN8Fhi",
        "outputId": "76ca5654-3946-4ed6-a2e0-1609f5861c8c"
      },
      "execution_count": null,
      "outputs": [
        {
          "output_type": "execute_result",
          "data": {
            "text/plain": [
              "<matplotlib.image.AxesImage at 0x7fde13189a90>"
            ]
          },
          "metadata": {},
          "execution_count": 12
        },
        {
          "output_type": "display_data",
          "data": {
            "text/plain": [
              "<Figure size 432x288 with 1 Axes>"
            ],
            "image/png": "[encoded data removed]"
          },
          "metadata": {
            "needs_background": "light"
          }
        }
      ]
    },
    {
      "cell_type": "code",
      "source": [
        "# Exercise 16.3—Mini Project\n",
        "def specific_classifier(input_vector):\n",
        "  result = np.zeros(10)\n",
        "  input = np.matrix.flatten(input_vector)/15.\n",
        "  for i in range(10):\n",
        "    tmp = np.matrix.flatten(average_img(i))/15.\n",
        "    result[i] = np.dot(input, tmp)/64\n",
        "  return result\n",
        "\n",
        "def my_test_digit_classify(classifier,test_count=1000):\n",
        "  correct = 0\n",
        "  for img, target in zip(digits.images[:test_count], digits.target[:test_count]):\n",
        "    output = classifier(img)\n",
        "    answer = list(output).index(max(output))\n",
        "    if answer == target:\n",
        "      correct += 1\n",
        "  return (correct/test_count)"
      ],
      "metadata": {
        "id": "_bxm8L84_qMt"
      },
      "execution_count": null,
      "outputs": []
    },
    {
      "cell_type": "code",
      "source": [
        "my_test_digit_classify(specific_classifier, test_count=10000)"
      ],
      "metadata": {
        "colab": {
          "base_uri": "https://localhost:8080/"
        },
        "id": "Ys0Cg-DTCABO",
        "outputId": "fc133fac-fbdd-43cd-c25a-0a49295935cb"
      },
      "execution_count": null,
      "outputs": [
        {
          "output_type": "execute_result",
          "data": {
            "text/plain": [
              "0.1606"
            ]
          },
          "metadata": {},
          "execution_count": 21
        }
      ]
    },
    {
      "cell_type": "code",
      "source": [
        "# Solution from the book\n",
        "avg_digits = [np.matrix.flatten(average_img(i)) for i in range(10)]\n",
        "def compare_to_avg(v):\n",
        "  return [np.dot(v,avg_digits[i]) for i in range(10)]\n",
        "\n",
        "def test_digit_classify(classifier,test_count=1000):\n",
        "  correct = 0\n",
        "  for img, target in zip(digits.images[:test_count], digits.target[:test_count]):\n",
        "    v = np.matrix.flatten(img)/15.\n",
        "    output = classifier(v)\n",
        "    answer = list(output).index(max(output))\n",
        "    if answer == target:\n",
        "      correct += 1\n",
        "  return (correct/test_count)\n",
        "\n",
        "test_digit_classify(compare_to_avg, test_count=10000)"
      ],
      "metadata": {
        "colab": {
          "base_uri": "https://localhost:8080/"
        },
        "id": "_BHrVafiIiDw",
        "outputId": "68233b55-e71c-45e6-b2f7-52d5e20543bb"
      },
      "execution_count": null,
      "outputs": [
        {
          "output_type": "execute_result",
          "data": {
            "text/plain": [
              "0.1606"
            ]
          },
          "metadata": {},
          "execution_count": 26
        }
      ]
    },
    {
      "cell_type": "code",
      "source": [],
      "metadata": {
        "id": "gs3qANNeJjEv"
      },
      "execution_count": null,
      "outputs": []
    }
  ]
}
