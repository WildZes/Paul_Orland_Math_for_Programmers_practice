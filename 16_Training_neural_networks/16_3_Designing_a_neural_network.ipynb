{
  "nbformat": 4,
  "nbformat_minor": 0,
  "metadata": {
    "colab": {
      "provenance": []
    },
    "kernelspec": {
      "name": "python3",
      "display_name": "Python 3"
    },
    "language_info": {
      "name": "python"
    }
  },
  "cells": [
    {
      "cell_type": "code",
      "execution_count": null,
      "metadata": {
        "id": "M_qH7_Zfdl3G"
      },
      "outputs": [],
      "source": [
        "# Exercise 16.9—Mini Project\n",
        "\n",
        "# From https://stackoverflow.com/questions/29888233/how-to-visualize-a-neural-network\n",
        "from matplotlib import pyplot\n",
        "from math import cos, sin, atan\n",
        "\n",
        "\n",
        "class Neuron():\n",
        "    def __init__(self, x, y):\n",
        "        self.x = x\n",
        "        self.y = y\n",
        "\n",
        "    def draw(self, neuron_radius):\n",
        "        circle = pyplot.Circle((self.x, self.y), radius=neuron_radius, fill=False)\n",
        "        pyplot.gca().add_patch(circle)\n",
        "\n",
        "\n",
        "class Layer():\n",
        "    def __init__(self, network, number_of_neurons, number_of_neurons_in_widest_layer):\n",
        "        self.vertical_distance_between_layers = 6\n",
        "        self.horizontal_distance_between_neurons = 2\n",
        "        self.neuron_radius = 0.5\n",
        "        self.number_of_neurons_in_widest_layer = number_of_neurons_in_widest_layer\n",
        "        self.previous_layer = self.__get_previous_layer(network)\n",
        "        self.y = self.__calculate_layer_y_position()\n",
        "        self.neurons = self.__intialise_neurons(number_of_neurons)\n",
        "\n",
        "    def __intialise_neurons(self, number_of_neurons):\n",
        "        neurons = []\n",
        "        x = self.__calculate_left_margin_so_layer_is_centered(number_of_neurons)\n",
        "        for _ in range(number_of_neurons):\n",
        "            neuron = Neuron(x, self.y)\n",
        "            neurons.append(neuron)\n",
        "            x += self.horizontal_distance_between_neurons\n",
        "        return neurons\n",
        "\n",
        "    def __calculate_left_margin_so_layer_is_centered(self, number_of_neurons):\n",
        "        return self.horizontal_distance_between_neurons * (self.number_of_neurons_in_widest_layer - number_of_neurons) / 2\n",
        "\n",
        "    def __calculate_layer_y_position(self):\n",
        "        if self.previous_layer:\n",
        "            return self.previous_layer.y + self.vertical_distance_between_layers\n",
        "        else:\n",
        "            return 0\n",
        "\n",
        "    def __get_previous_layer(self, network):\n",
        "        if len(network.layers) > 0:\n",
        "            return network.layers[-1]\n",
        "        else:\n",
        "            return None\n",
        "\n",
        "    def __line_between_two_neurons(self, neuron1, neuron2):\n",
        "        angle = atan((neuron2.x - neuron1.x) / float(neuron2.y - neuron1.y))\n",
        "        x_adjustment = self.neuron_radius * sin(angle)\n",
        "        y_adjustment = self.neuron_radius * cos(angle)\n",
        "        line = pyplot.Line2D((neuron1.x - x_adjustment, neuron2.x + x_adjustment), (neuron1.y - y_adjustment, neuron2.y + y_adjustment))\n",
        "        pyplot.gca().add_line(line)\n",
        "\n",
        "    def draw(self, layerType=0):\n",
        "        for neuron in self.neurons:\n",
        "            neuron.draw( self.neuron_radius )\n",
        "            if self.previous_layer:\n",
        "                for previous_layer_neuron in self.previous_layer.neurons:\n",
        "                    self.__line_between_two_neurons(neuron, previous_layer_neuron)\n",
        "        # write Text\n",
        "        x_text = self.number_of_neurons_in_widest_layer * self.horizontal_distance_between_neurons\n",
        "        if layerType == 0:\n",
        "            pyplot.text(x_text, self.y, 'Input Layer', fontsize = 12)\n",
        "        elif layerType == -1:\n",
        "            pyplot.text(x_text, self.y, 'Output Layer', fontsize = 12)\n",
        "        else:\n",
        "            pyplot.text(x_text, self.y, 'Hidden Layer '+str(layerType), fontsize = 12)\n",
        "\n",
        "class NeuralNetwork():\n",
        "    def __init__(self, number_of_neurons_in_widest_layer):\n",
        "        self.number_of_neurons_in_widest_layer = number_of_neurons_in_widest_layer\n",
        "        self.layers = []\n",
        "        self.layertype = 0\n",
        "\n",
        "    def add_layer(self, number_of_neurons ):\n",
        "        layer = Layer(self, number_of_neurons, self.number_of_neurons_in_widest_layer)\n",
        "        self.layers.append(layer)\n",
        "\n",
        "    def draw(self):\n",
        "        pyplot.figure()\n",
        "        for i in range( len(self.layers) ):\n",
        "            layer = self.layers[i]\n",
        "            if i == len(self.layers)-1:\n",
        "                i = -1\n",
        "            layer.draw( i )\n",
        "        pyplot.axis('scaled')\n",
        "        pyplot.axis('off')\n",
        "        pyplot.title( 'Neural Network architecture', fontsize=15 )\n",
        "        pyplot.show()\n",
        "\n",
        "class DrawNN():\n",
        "    def __init__( self, neural_network ):\n",
        "        self.neural_network = neural_network\n",
        "\n",
        "    def draw( self ):\n",
        "        widest_layer = max( self.neural_network )\n",
        "        network = NeuralNetwork( widest_layer )\n",
        "        for l in self.neural_network:\n",
        "            network.add_layer(l)\n",
        "        network.draw()"
      ]
    },
    {
      "cell_type": "code",
      "source": [
        "network = DrawNN( [3,4,3,2] )\n",
        "network.draw()"
      ],
      "metadata": {
        "colab": {
          "base_uri": "https://localhost:8080/",
          "height": 266
        },
        "id": "avDCsjl5jwoQ",
        "outputId": "2bc8c1b8-d9c4-4c9e-9947-37f001a8430f"
      },
      "execution_count": null,
      "outputs": [
        {
          "output_type": "display_data",
          "data": {
            "text/plain": [
              "<Figure size 432x288 with 1 Axes>"
            ],
            "image/png": "[encoded data removed]"
          },
          "metadata": {
            "needs_background": "light"
          }
        }
      ]
    },
    {
      "cell_type": "code",
      "execution_count": null,
      "metadata": {
        "id": "aoQvtZfAfZ3w"
      },
      "outputs": [],
      "source": [
        "# Code from first cell with mine modifications\n",
        "class Neuron():\n",
        "    def __init__(self, x, y, label):\n",
        "        self.x = x\n",
        "        self.y = y\n",
        "        self.l = label\n",
        "\n",
        "    def draw(self, neuron_radius):\n",
        "        circle = pyplot.Circle((self.x, self.y), radius=neuron_radius, fill=False)\n",
        "        pyplot.gca().add_patch(circle)\n",
        "        pyplot.text(self.x-neuron_radius/1.1,self.y-neuron_radius/3,self.l,fontsize=6)\n",
        "\n",
        "\n",
        "class Layer():\n",
        "    def __init__(self, network, number_of_neurons, number_of_neurons_in_widest_layer):\n",
        "        self.horizontal_distance_between_layers = 30\n",
        "        self.vertical_distance_between_neurons = 5\n",
        "        self.neuron_radius = 2\n",
        "        self.number_of_neurons_in_widest_layer = number_of_neurons_in_widest_layer\n",
        "        self.previous_layer = self.__get_previous_layer(network)\n",
        "        self.x = self.__calculate_layer_x_position()\n",
        "        self.neurons = self.__intialise_neurons(number_of_neurons, network)\n",
        "\n",
        "    def __intialise_neurons(self, number_of_neurons, network):\n",
        "        neurons = []\n",
        "        y = self.__calculate_up_margin_so_layer_is_centered(number_of_neurons)\n",
        "        for i in reversed(range(number_of_neurons)):\n",
        "            txt = str(network.layertype) + '_' + str(i+1)\n",
        "            neuron = Neuron(self.x, y, txt)\n",
        "            neurons.append(neuron)\n",
        "            y += self.vertical_distance_between_neurons + self.neuron_radius * 2\n",
        "        return neurons\n",
        "\n",
        "    def __calculate_up_margin_so_layer_is_centered(self, number_of_neurons):\n",
        "        return self.vertical_distance_between_neurons * (self.number_of_neurons_in_widest_layer - number_of_neurons) / 2\n",
        "\n",
        "    def __calculate_layer_x_position(self):\n",
        "        if self.previous_layer:\n",
        "            return self.previous_layer.x + self.horizontal_distance_between_layers\n",
        "        else:\n",
        "            return 0\n",
        "\n",
        "    def __get_previous_layer(self, network):\n",
        "        if len(network.layers) > 0:\n",
        "            return network.layers[-1]\n",
        "        else:\n",
        "            return None\n",
        "\n",
        "    def __line_between_two_neurons(self, neuron1, neuron2):\n",
        "        angle = atan((neuron2.y - neuron1.y) / float(neuron2.x - neuron1.x))\n",
        "        x_adjustment = self.neuron_radius * cos(angle)\n",
        "        y_adjustment = self.neuron_radius * sin(angle)\n",
        "        line = pyplot.Line2D((neuron1.x - x_adjustment, neuron2.x + x_adjustment), (neuron1.y - y_adjustment, neuron2.y + y_adjustment))\n",
        "        pyplot.gca().add_line(line)\n",
        "\n",
        "    def draw(self, layerType=0):\n",
        "        for neuron in self.neurons:\n",
        "            neuron.draw( self.neuron_radius )\n",
        "            if self.previous_layer:\n",
        "                for previous_layer_neuron in self.previous_layer.neurons:\n",
        "                    self.__line_between_two_neurons(neuron, previous_layer_neuron)\n",
        "        # write Text\n",
        "        y_text = - (self.neuron_radius * 3)\n",
        "        x_text = self.x - self.horizontal_distance_between_layers / 2\n",
        "        # y_text = self.number_of_neurons_in_widest_layer * (2 * self.neuron_radius + self.vertical_distance_between_neurons)\n",
        "        if layerType == 0:\n",
        "            pyplot.text(x_text, y_text, 'Input Layer', fontsize = 12)\n",
        "        elif layerType == -1:\n",
        "            pyplot.text(x_text, y_text, 'Output Layer', fontsize = 12)\n",
        "        else:\n",
        "            pyplot.text(x_text, y_text, 'Hidden Layer '+str(layerType), fontsize = 12)\n",
        "\n",
        "class NeuralNetwork():\n",
        "    def __init__(self, number_of_neurons_in_widest_layer):\n",
        "        self.number_of_neurons_in_widest_layer = number_of_neurons_in_widest_layer\n",
        "        self.layers = []\n",
        "        self.layertype = 0\n",
        "\n",
        "    def add_layer(self, number_of_neurons ):\n",
        "        layer = Layer(self, number_of_neurons, self.number_of_neurons_in_widest_layer)\n",
        "        self.layers.append(layer)\n",
        "        self.layertype += 1\n",
        "\n",
        "    def draw(self):\n",
        "        pyplot.figure()\n",
        "        for i in range( len(self.layers) ):\n",
        "            layer = self.layers[i]\n",
        "            if i == len(self.layers)-1:\n",
        "                i = -1\n",
        "            layer.draw( i )\n",
        "        pyplot.axis('scaled')\n",
        "        pyplot.axis('off')\n",
        "        pyplot.title( 'Neural Network architecture', fontsize=15 )\n",
        "        pyplot.show()\n",
        "\n",
        "class DrawNN():\n",
        "    def __init__( self, neural_network ):\n",
        "        self.neural_network = neural_network\n",
        "        print(neural_network)\n",
        "\n",
        "    def draw( self ):\n",
        "        widest_layer = max( self.neural_network )\n",
        "        network = NeuralNetwork( widest_layer )\n",
        "        for l in self.neural_network:\n",
        "            network.add_layer(l)\n",
        "        network.draw()"
      ]
    },
    {
      "cell_type": "code",
      "source": [
        "network = DrawNN( [3,4,3,2] )\n",
        "network.draw()"
      ],
      "metadata": {
        "colab": {
          "base_uri": "https://localhost:8080/",
          "height": 187
        },
        "id": "a72hoFqxfz3L",
        "outputId": "f646259a-1d2f-4152-daff-91daf13ac384"
      },
      "execution_count": null,
      "outputs": [
        {
          "output_type": "stream",
          "name": "stdout",
          "text": [
            "[3, 4, 3, 2]\n"
          ]
        },
        {
          "output_type": "display_data",
          "data": {
            "text/plain": [
              "<Figure size 432x288 with 1 Axes>"
            ],
            "image/png": "[encoded data removed]"
          },
          "metadata": {
            "needs_background": "light"
          }
        }
      ]
    },
    {
      "cell_type": "code",
      "source": [
        "# Did not find solution from the book \"See the source code for this book for an implementation.\""
      ],
      "metadata": {
        "id": "EUaU5ObBf48q"
      },
      "execution_count": null,
      "outputs": []
    }
  ]
}