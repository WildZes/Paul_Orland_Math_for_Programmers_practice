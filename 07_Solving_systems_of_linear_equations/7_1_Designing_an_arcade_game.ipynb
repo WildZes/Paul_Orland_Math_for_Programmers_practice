{
  "nbformat": 4,
  "nbformat_minor": 0,
  "metadata": {
    "colab": {
      "provenance": []
    },
    "kernelspec": {
      "name": "python3",
      "display_name": "Python 3"
    },
    "language_info": {
      "name": "python"
    }
  },
  "cells": [
    {
      "cell_type": "code",
      "execution_count": 14,
      "metadata": {
        "id": "o0pr9vLdvNc0"
      },
      "outputs": [],
      "source": [
        "# Exercise 7.1\n",
        "from math import sin, cos, atan2, sqrt\n",
        "\n",
        "def length(v):\n",
        "    return sqrt(sum([coord ** 2 for coord in v]))\n",
        "\n",
        "def to_polar(vector):\n",
        "    x, y = vector[0], vector[1]\n",
        "    angle = atan2(y,x)\n",
        "    return (length(vector), angle)\n",
        "\n",
        "def to_cartesian(polar_vector):\n",
        "    length, angle = polar_vector[0], polar_vector[1]\n",
        "    return (length*cos(angle), length*sin(angle))\n",
        "\n",
        "class PolygonModel():\n",
        "  def __init__(self,points):\n",
        "    self.points = points\n",
        "    self.rotation_angle = 0\n",
        "    self.x = 0\n",
        "    self.y = 0\n",
        "  def transformed(self):\n",
        "    points = [(p1+self.x,p2+self.y) for (p1,p2) in self.points]\n",
        "    polar = [to_polar(v) for v in points]\n",
        "    return [to_cartesian((vl, ang+self.rotation_angle)) for (vl,ang) in polar]\n"
      ]
    },
    {
      "cell_type": "code",
      "source": [
        "one = PolygonModel([(1,1),(2,2),(3,3)])\n",
        "one.x = 1\n",
        "one.y = 2\n",
        "one.rotation_angle = 20\n",
        "one.transformed()"
      ],
      "metadata": {
        "colab": {
          "base_uri": "https://localhost:8080/"
        },
        "id": "j25GhaAo0MIO",
        "outputId": "5679fe27-e81b-447a-f4a6-40cbcb3156ef"
      },
      "execution_count": 15,
      "outputs": [
        {
          "output_type": "execute_result",
          "data": {
            "text/plain": [
              "[(-1.9226716285561005, 3.05013668689543),\n",
              " (-2.427534817470327, 4.371163999436455),\n",
              " (-2.932398006384571, 5.69219131197747)]"
            ]
          },
          "metadata": {},
          "execution_count": 15
        }
      ]
    },
    {
      "cell_type": "code",
      "source": [
        "# Solution from the book\n",
        "class PolygonModel():\n",
        "  def __init__(self,points):\n",
        "    self.points = points\n",
        "    self.rotation_angle = 0\n",
        "    self.x = 0\n",
        "    self.y = 0\n",
        "  def transformed(self):\n",
        "    rotated = [vectors.rotate2d(self.rotation_angle, v) for v in self.points]\n",
        "    return [vectors.add((self.x,self.y),v) for v in rotated]"
      ],
      "metadata": {
        "id": "WM0jlgGSyLZL"
      },
      "execution_count": 3,
      "outputs": []
    },
    {
      "cell_type": "code",
      "source": [
        "!wget https://raw.githubusercontent.com/WildZes/Paul_Orland_Math_for_Programmers_practice/main/06_Generalizing_to_higher_dimensions/vectors.py"
      ],
      "metadata": {
        "colab": {
          "base_uri": "https://localhost:8080/"
        },
        "id": "8TsB1X7m1haS",
        "outputId": "1abdd2f4-e3bd-4454-bda0-e720e3a708ec"
      },
      "execution_count": 4,
      "outputs": [
        {
          "output_type": "stream",
          "name": "stdout",
          "text": [
            "--2022-09-27 12:10:13--  https://raw.githubusercontent.com/WildZes/Paul_Orland_Math_for_Programmers_practice/main/06_Generalizing_to_higher_dimensions/vectors.py\n",
            "Resolving raw.githubusercontent.com (raw.githubusercontent.com)... 185.199.109.133, 185.199.110.133, 185.199.108.133, ...\n",
            "Connecting to raw.githubusercontent.com (raw.githubusercontent.com)|185.199.109.133|:443... connected.\n",
            "HTTP request sent, awaiting response... 200 OK\n",
            "Length: 1767 (1.7K) [text/plain]\n",
            "Saving to: ‘vectors.py.1’\n",
            "\n",
            "\rvectors.py.1          0%[                    ]       0  --.-KB/s               \rvectors.py.1        100%[===================>]   1.73K  --.-KB/s    in 0s      \n",
            "\n",
            "2022-09-27 12:10:13 (33.6 MB/s) - ‘vectors.py.1’ saved [1767/1767]\n",
            "\n"
          ]
        }
      ]
    },
    {
      "cell_type": "code",
      "source": [
        "import vectors\n",
        "two = PolygonModel([(1,1),(2,2),(3,3)])\n",
        "two.x = 1\n",
        "two.y = 2\n",
        "two.rotation_angle = 20\n",
        "two.transformed()"
      ],
      "metadata": {
        "colab": {
          "base_uri": "https://localhost:8080/"
        },
        "id": "F1Ws4StJ1GZr",
        "outputId": "fa67b0fd-3af9-447e-f7d0-3802bb4c6ad5"
      },
      "execution_count": 5,
      "outputs": [
        {
          "output_type": "execute_result",
          "data": {
            "text/plain": [
              "[(0.49513681108576313, 3.3210273125410192),\n",
              " (-0.009726377828473742, 4.6420546250820385),\n",
              " (-0.5145895667427103, 5.963081937623057)]"
            ]
          },
          "metadata": {},
          "execution_count": 5
        }
      ]
    },
    {
      "cell_type": "code",
      "source": [
        "# Another mine solution\n",
        "class PolygonModel():\n",
        "  def __init__(self,points):\n",
        "    self.points = points\n",
        "    self.rotation_angle = 0\n",
        "    self.x = 0\n",
        "    self.y = 0\n",
        "  def transformed(self):\n",
        "    polar = [to_polar(v) for v in self.points]\n",
        "    points = [to_cartesian((vl, ang+self.rotation_angle)) for (vl,ang) in polar]\n",
        "    return [(x+self.x, y+self.y) for (x,y) in points]"
      ],
      "metadata": {
        "id": "FoNQifav1Lqa"
      },
      "execution_count": 18,
      "outputs": []
    },
    {
      "cell_type": "code",
      "source": [
        "three = PolygonModel([(1,1),(2,2),(3,3)])\n",
        "three.x = 1\n",
        "three.y = 2\n",
        "three.rotation_angle = 20\n",
        "three.transformed()"
      ],
      "metadata": {
        "colab": {
          "base_uri": "https://localhost:8080/"
        },
        "id": "IHMiccIB3vl5",
        "outputId": "be6cccee-cf2e-46c6-fe96-d15132e9c384"
      },
      "execution_count": 19,
      "outputs": [
        {
          "output_type": "execute_result",
          "data": {
            "text/plain": [
              "[(0.49513681108576313, 3.3210273125410192),\n",
              " (-0.009726377828473742, 4.6420546250820385),\n",
              " (-0.5145895667427103, 5.963081937623057)]"
            ]
          },
          "metadata": {},
          "execution_count": 19
        }
      ]
    },
    {
      "cell_type": "code",
      "source": [
        "# Exercise 7.2\n",
        "# Solution from the book\n",
        "width, height = 400, 400\n",
        "def to_pixels(x,y):\n",
        "  return (width/2 + width * x / 20, height/2 - height * y / 20)"
      ],
      "metadata": {
        "id": "gjtyLksG326Z"
      },
      "execution_count": 20,
      "outputs": []
    },
    {
      "cell_type": "code",
      "source": [],
      "metadata": {
        "id": "KZGaKvZ96PJ8"
      },
      "execution_count": null,
      "outputs": []
    }
  ]
}