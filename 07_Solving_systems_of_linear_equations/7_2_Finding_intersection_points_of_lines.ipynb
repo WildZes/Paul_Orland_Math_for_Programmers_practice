{
  "nbformat": 4,
  "nbformat_minor": 0,
  "metadata": {
    "colab": {
      "provenance": []
    },
    "kernelspec": {
      "name": "python3",
      "display_name": "Python 3"
    },
    "language_info": {
      "name": "python"
    }
  },
  "cells": [
    {
      "cell_type": "code",
      "execution_count": 1,
      "metadata": {
        "id": "ZzpJO1OP9AUG"
      },
      "outputs": [],
      "source": [
        "# Exercise 7.14\n",
        "from math import sqrt\n",
        "\n",
        "def subtract(v1,v2):\n",
        "  return tuple(v1-v2 for (v1,v2) in zip(v1,v2))\n",
        "\n",
        "def distance(v1,v2):\n",
        "  return length(subtract(v1,v2))\n",
        "\n",
        "def length(v):\n",
        "  return sqrt(sum([coord ** 2 for coord in v]))\n",
        "\n",
        "def do_segments_intersect(s1,s2):\n",
        "  u1,u2 = s1\n",
        "  v1,v2 = s2\n",
        "  d1, d2 = distance(*s1), distance(*s2)\n",
        "  try:\n",
        "      x,y = intersection(u1,u2,v1,v2)\n",
        "      return (distance(u1, (x,y)) <= d1 and\n",
        "              distance(u2, (x,y)) <= d1 and\n",
        "              distance(v1, (x,y)) <= d2 and\n",
        "              distance(v2, (x,y)) <= d2)\n",
        "  except np.linalg.linalg.LinAlgError:\n",
        "      return False\n",
        "\n",
        "def intersection(u1,u2,v1,v2):\n",
        "  a1, b1, c1 = standard_form(u1,u2)\n",
        "  a2, b2, c2 = standard_form(v1,v2)\n",
        "  m = np.array(((a1,b1),(a2,b2)))\n",
        "  c = np.array((c1,c2))\n",
        "  return np.linalg.solve(m,c)\n",
        "\n",
        "class PolygonModel():\n",
        "  def __init__(self,points):\n",
        "    self.points = points\n",
        "    self.rotation_angle = 0\n",
        "    self.x = 0\n",
        "    self.y = 0\n",
        "  def transformed(self):\n",
        "    points = [(p1+self.x,p2+self.y) for (p1,p2) in self.points]\n",
        "    polar = [to_polar(v) for v in points]\n",
        "    return [to_cartesian((vl, ang+self.rotation_angle)) for (vl,ang) in polar]\n",
        "  def does_collide(other_polygon):\n",
        "    for i in range(0,len(self.vertices)):\n",
        "      sx1, sy1 = self.points[i]\n",
        "      sx2, sy2 = self.points[(i+1)%len(self.points)]\n",
        "      for j in range(0, len(other_polygon.points)):\n",
        "        ox1, oy1 = other_polygon.points[j]\n",
        "        ox2, oy2 = other_polygon.points[(j+1)%len(other_polygon.points)]\n",
        "        if do_segments_intersect(((sx1,sy1),(sx2,sy2)),((ox1,oy1),(ox2,oy2))):\n",
        "          return True\n",
        "    return False"
      ]
    },
    {
      "cell_type": "code",
      "source": [
        "# Solution from the book\n",
        "class PolygonModel():\n",
        "  ...\n",
        "  def segments(self):\n",
        "    point_count = len(self.points)\n",
        "    points = self.transformed()\n",
        "    return [(points[i], points[(i+1)%point_count]) for i in range(0,point_count)]\n",
        "  def does_collide(self, other_poly):\n",
        "    for other_segment in other_poly.segments():\n",
        "      if self.does_intersect(other_segment):\n",
        "        return True\n",
        "    return False"
      ],
      "metadata": {
        "id": "SvlsF2ZLGISf"
      },
      "execution_count": null,
      "outputs": []
    }
  ]
}