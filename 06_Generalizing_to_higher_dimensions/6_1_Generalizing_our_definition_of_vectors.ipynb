{
  "nbformat": 4,
  "nbformat_minor": 0,
  "metadata": {
    "colab": {
      "provenance": []
    },
    "kernelspec": {
      "name": "python3",
      "display_name": "Python 3"
    },
    "language_info": {
      "name": "python"
    }
  },
  "cells": [
    {
      "cell_type": "code",
      "execution_count": null,
      "metadata": {
        "id": "ZCe8ak3hC-MO"
      },
      "outputs": [],
      "source": [
        "# Exercise 6.1\n",
        "from abc import ABCMeta, abstractmethod\n",
        "\n",
        "class Vector(metaclass=ABCMeta):\n",
        "    @abstractmethod\n",
        "    def scale(self,scalar):\n",
        "        pass\n",
        "    @abstractmethod\n",
        "    def add(self,other):\n",
        "        pass\n",
        "    def __mul__(self, scalar):\n",
        "        return self.scale(scalar)\n",
        "    def __rmul__(self, scalar):\n",
        "        return self.scale(scalar)\n",
        "    def __add__(self,other):\n",
        "        return self.add(other)\n",
        "\n",
        "class Vec3(Vector):\n",
        "    def __init__(self,x,y,z):\n",
        "        self.x = x\n",
        "        self.y = y\n",
        "        self.z = z\n",
        "    def add(self,other):\n",
        "        return Vec3(self.x + other.x, self.y + other.y, self.z + other.z)\n",
        "    def scale(self,scalar):\n",
        "        return Vec3(scalar * self.x, scalar * self.y, scalar * self.z)\n",
        "    def __eq__(self,other):\n",
        "        return self.x == other.x and self.y == other.y and self.z == other.z\n",
        "    def __repr__(self):\n",
        "        return \"Vec3({},{},{})\".format(self.x, self.y, self.z) #My mistake. Should be \"Vec3({},{},{})\"\n",
        "    def zero():\n",
        "        return Vec3(0,0,0)"
      ]
    },
    {
      "cell_type": "code",
      "source": [
        "# Solution from the book\n",
        "class Vec3(Vector):\n",
        "  def __init__(self,x,y,z):\n",
        "    self.x = x\n",
        "    self.y = y\n",
        "    self.z = z\n",
        "  def add(self,other):\n",
        "    return Vec3(self.x + other.x,\n",
        "                self.y + other.y,\n",
        "                self.z + other.z)\n",
        "  def scale(self,scalar):\n",
        "    return Vec3(scalar * self.x,\n",
        "                scalar * self.y,\n",
        "                scalar * self.z)\n",
        "  def __eq__(self,other):\n",
        "    return (self.x == other.x\n",
        "            and self.y == other.y\n",
        "            and self.z == other.z)\n",
        "  def __repr__(self):\n",
        "    return \"Vec3({},{},{})\".format(self.x, self.y, self.z)"
      ],
      "metadata": {
        "id": "9LuzrvCVFd7L"
      },
      "execution_count": null,
      "outputs": []
    },
    {
      "cell_type": "code",
      "source": [
        "# Exercise 6.2—Mini Project\n",
        "# I don't know nothing about \"abstract property\". Maybe I've read this part of the book not quite neatly but I've used solution from the book.\n",
        "from abc import abstractproperty\n",
        "\n",
        "def add(*vectors):\n",
        "    return tuple(map(sum,zip(*vectors)))\n",
        "def scale(scalar,v):\n",
        "    return tuple(scalar * coord for coord in v)\n",
        "\n",
        "class CoordinateVector(Vector):\n",
        "  @abstractproperty\n",
        "  def dimension(self):\n",
        "    pass\n",
        "  def __init__(self,*coordinates):\n",
        "    self.coordinates = tuple(x for x in coordinates)\n",
        "  def add(self,other):\n",
        "    return self.__class__(*add(self.coordinates, other.coordinates))\n",
        "  def scale(self,scalar):\n",
        "    return self.__class__(*scale(scalar, self.coordinates))\n",
        "  def __repr__(self):\n",
        "    return \"{}{}\".format(self.__class__.__qualname__, self.coordinates)"
      ],
      "metadata": {
        "id": "WrTCMdWGGiYc"
      },
      "execution_count": null,
      "outputs": []
    },
    {
      "cell_type": "code",
      "source": [
        "class Vec6(CoordinateVector):\n",
        "  def dimension(self):\n",
        "    return 6\n",
        "  def zero():\n",
        "      return Vec6(0,0,0,0,0,0)"
      ],
      "metadata": {
        "id": "2ozp2VPeG_cJ"
      },
      "execution_count": null,
      "outputs": []
    },
    {
      "cell_type": "code",
      "source": [
        "Vec6(1,2,3,4,5,6) + Vec6(1, 2, 3, 4, 5, 6)"
      ],
      "metadata": {
        "colab": {
          "base_uri": "https://localhost:8080/"
        },
        "id": "uM5axCgsJ6NF",
        "outputId": "6bc8357e-144a-43a7-8717-d7e1b829d7ac"
      },
      "execution_count": null,
      "outputs": [
        {
          "output_type": "execute_result",
          "data": {
            "text/plain": [
              "Vec6(2, 4, 6, 8, 10, 12)"
            ]
          },
          "metadata": {},
          "execution_count": 7
        }
      ]
    },
    {
      "cell_type": "code",
      "source": [
        "V6 = Vec6(1,2,3,4,5,6) + Vec6(1, 2, 3, 4, 5, 6)\n",
        "V6.dimension()"
      ],
      "metadata": {
        "colab": {
          "base_uri": "https://localhost:8080/"
        },
        "id": "J0LA662hJ9bp",
        "outputId": "78a2bc1d-5513-40fd-e488-f5a67ba96e5e"
      },
      "execution_count": null,
      "outputs": [
        {
          "output_type": "execute_result",
          "data": {
            "text/plain": [
              "6"
            ]
          },
          "metadata": {},
          "execution_count": 9
        }
      ]
    },
    {
      "cell_type": "code",
      "source": [
        "# Exercise 6.4\n",
        "from random import uniform\n",
        "def random_scalar():\n",
        "  return uniform(-10,10)\n",
        "def random_vec3():\n",
        "  return Vec3(random_scalar(),random_scalar(),random_scalar())\n",
        "\n",
        "from math import isclose\n",
        "def approx_equal_vec3(v,w):\n",
        "  return isclose(v.x,w.x) and isclose(v.y,w.y) and isclose(v.z,w.z)\n",
        "\n",
        "def test(eq, a, b, u, v, w):\n",
        "  assert eq(u + v, v + u)\n",
        "  assert eq(u + (v + w), (u + v) + w)\n",
        "  assert eq(a * (b * v), (a * b) * v)\n",
        "  assert eq(1 * v, v)\n",
        "  assert eq((a + b) * v, a * v + b * v)\n",
        "  assert eq(a * v + a * w, a * (v + w))\n",
        "for _ in range(0,100):\n",
        "  a,b = random_scalar(), random_scalar()\n",
        "  u,v,w = random_vec3(), random_vec3(), random_vec3()\n",
        "  test(approx_equal_vec3,a,b,u,v,w)"
      ],
      "metadata": {
        "id": "SIvwsLXjK1X4"
      },
      "execution_count": null,
      "outputs": []
    },
    {
      "cell_type": "code",
      "source": [
        "# Solution from the book\n",
        "def random_vec3():\n",
        "  return Vec3(random_scalar(),random_scalar(),random_scalar())\n",
        "def approx_equal_vec3(v,w):\n",
        "  return isclose(v.x,w.x) and isclose(v.y,w.y) and isclose(v.z, w.z)\n",
        "for i in range(0,100):\n",
        "  a,b = random_scalar(), random_scalar()\n",
        "  u,v,w = random_vec3(), random_vec3(), random_vec3()\n",
        "  test(approx_equal_vec3,a,b,u,v,w)"
      ],
      "metadata": {
        "id": "avkSm2jQuknQ"
      },
      "execution_count": null,
      "outputs": []
    },
    {
      "cell_type": "code",
      "source": [
        "# Exercise 6.5\n",
        "def test(eq, v):\n",
        "  assert eq(Vec3.zero() + v, v)\n",
        "  assert eq((-1) * v + v, Vec3.zero())\n",
        "  assert eq(0 * v, Vec3.zero())\n",
        "  assert eq(1 * v, v)\n",
        "\n",
        "for _ in range(0,100):\n",
        "  v = random_vec3()\n",
        "  test(approx_equal_vec3,v)"
      ],
      "metadata": {
        "id": "MUrtR_huykzM"
      },
      "execution_count": null,
      "outputs": []
    },
    {
      "cell_type": "code",
      "source": [
        "def random_vec6():\n",
        "  return Vec6(random_scalar(),random_scalar(),random_scalar(),random_scalar(),random_scalar(),random_scalar())\n",
        "def approx_equal_vec6(v,w):\n",
        "  return isclose(v.coordinates[0],w.coordinates[0]) and isclose(v.coordinates[1],w.coordinates[1]) and \\\n",
        "         isclose(v.coordinates[2], w.coordinates[2]) and isclose(v.coordinates[3], w.coordinates[3]) and \\\n",
        "         isclose(v.coordinates[4], w.coordinates[4]) and isclose(v.coordinates[5], w.coordinates[5])\n",
        "\n",
        "def test(eq, v):\n",
        "  assert eq(Vec6.zero() + v, v)\n",
        "  assert eq((-1) * v + v, Vec6.zero())\n",
        "  assert eq(0 * v, Vec6.zero())\n",
        "  assert eq(1 * v, v)\n",
        "\n",
        "for _ in range(0,100):\n",
        "  v = random_vec6()\n",
        "  test(approx_equal_vec6,v)"
      ],
      "metadata": {
        "id": "JNNYnRUm05rX"
      },
      "execution_count": null,
      "outputs": []
    },
    {
      "cell_type": "code",
      "source": [
        "# Solution from the book\n",
        "# def test(zero,eq,a,b,u,v,w):\n",
        "#   ...\n",
        "#   assert eq(zero + v, v)\n",
        "#   assert eq(0 * v, zero)\n",
        "#   assert eq(-v + v, zero)\n",
        "\n",
        "# for _ in range(0,100):\n",
        "#   a,b = random_scalar(), random_scalar()\n",
        "#   u,v,w = random_vec2(), random_vec2(), random_vec2()\n",
        "#   test(Vec2.zero(), approx_equal_vec2, a,b,u,v,w)"
      ],
      "metadata": {
        "id": "HCdYb41r1cyS"
      },
      "execution_count": null,
      "outputs": []
    },
    {
      "cell_type": "code",
      "source": [
        "# Exercise 6.6\n",
        "import numpy as np\n",
        "\n",
        "class Vec3(CoordinateVector):\n",
        "  def dimension(self):\n",
        "    return 3\n",
        "  def zero(self):\n",
        "      return Vec3(0,0,0)\n",
        "\n",
        "def approx_equal_vec(v,w):\n",
        "  return all([isclose(v.coordinates[i],w.coordinates[i])for i in range(v.dimension())]) and (v.dimension() == w.dimension())\n",
        "\n",
        "def test(eq, a, b, u, v, w):\n",
        "  assert eq(u + v, v + u)\n",
        "  assert eq(u + (v + w), (u + v) + w)\n",
        "  assert eq(a * (b * v), (a * b) * v)\n",
        "  assert eq(1 * v, v)\n",
        "  assert eq((a + b) * v, a * v + b * v)\n",
        "  assert eq(a * v + a * w, a * (v + w))\n",
        "  assert eq(v.zero() + v, v)\n",
        "  assert eq((-1) * v + v, v.zero())\n",
        "  assert eq(0 * v, v.zero())\n",
        "  assert eq(1 * v, v)"
      ],
      "metadata": {
        "id": "SYIOstFr3EzY"
      },
      "execution_count": null,
      "outputs": []
    },
    {
      "cell_type": "code",
      "source": [
        "for _ in range(0,100):\n",
        "  a,b = random_scalar(), random_scalar()\n",
        "  u,v,w = random_vec3(), random_vec3(), random_vec3()\n",
        "  test(approx_equal_vec,a,b,u,v,w)"
      ],
      "metadata": {
        "id": "lpmJr7xw7LWu"
      },
      "execution_count": null,
      "outputs": []
    },
    {
      "cell_type": "code",
      "source": [
        "class Vec6(CoordinateVector):\n",
        "  def dimension(self):\n",
        "    return 6\n",
        "  def zero(self):\n",
        "      return Vec6(0,0,0,0,0,0)"
      ],
      "metadata": {
        "id": "MgOVcEnj7RTY"
      },
      "execution_count": null,
      "outputs": []
    },
    {
      "cell_type": "code",
      "source": [
        "for _ in range(0,100):\n",
        "  a,b = random_scalar(), random_scalar()\n",
        "  u,v,w = random_vec6(), random_vec6(), random_vec6()\n",
        "  test(approx_equal_vec,a,b,u,v,w)"
      ],
      "metadata": {
        "id": "gvq8YJZX9MqS"
      },
      "execution_count": null,
      "outputs": []
    },
    {
      "cell_type": "code",
      "source": [
        "# Solution from the book\n",
        "# class Vec2(Vector):\n",
        "#   ...\n",
        "#   def add(self,other):\n",
        "#     assert self.__class__ == other.__class__\n",
        "#     return Vec2(self.x + other.x, self.y + other.y)\n",
        "#   def __eq__(self,other):\n",
        "#     return (self.__class__ == other.__class__\n",
        "#     and self.x == other.x and self.y == other.y)"
      ],
      "metadata": {
        "id": "p4u_CjgV9nXf"
      },
      "execution_count": null,
      "outputs": []
    },
    {
      "cell_type": "code",
      "source": [
        "# Exercise 6.7\n",
        "# Some troubles with understanding, so took solution from the book\n",
        "# class Vector(metaclass=ABCMeta):\n",
        "#   ...\n",
        "#   def __truediv__(self, scalar):\n",
        "#     return self.scale(1.0/scalar)"
      ],
      "metadata": {
        "id": "cZOje_0X_k5D"
      },
      "execution_count": null,
      "outputs": []
    },
    {
      "cell_type": "code",
      "source": [],
      "metadata": {
        "id": "HkTa1qGZ_tRV"
      },
      "execution_count": null,
      "outputs": []
    }
  ]
}
