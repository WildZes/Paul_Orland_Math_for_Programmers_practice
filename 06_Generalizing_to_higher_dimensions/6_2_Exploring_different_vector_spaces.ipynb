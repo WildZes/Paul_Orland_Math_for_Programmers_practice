{
  "nbformat": 4,
  "nbformat_minor": 0,
  "metadata": {
    "colab": {
      "provenance": []
    },
    "kernelspec": {
      "name": "python3",
      "display_name": "Python 3"
    },
    "language_info": {
      "name": "python"
    }
  },
  "cells": [
    {
      "cell_type": "code",
      "execution_count": null,
      "metadata": {
        "id": "FnurvlKsvUgl"
      },
      "outputs": [],
      "source": [
        "# Exercise 6.9—Mini Project\n",
        "# Solution from the book\n",
        "from math import isclose\n",
        "from random import uniform, random, randint\n",
        "\n",
        "from datetime import datetime, timedelta\n",
        "\n",
        "def random_time():\n",
        "  return CarForSale.retrieved_date - timedelta(days=uniform(0,10))\n",
        "def approx_equal_time(t1, t2):\n",
        "  test = datetime.now()\n",
        "  return isclose((test-t1).total_seconds(), (test-t2).total_seconds())\n",
        "def random_car():\n",
        "  return CarForSale(randint(1990,2019), randint(0,250000), 27000. * random(), random_time())\n",
        "def approx_equal_car(c1,c2):\n",
        "  return (isclose(c1.model_year,c2.model_year) and isclose(c1.mileage,c2.mileage)\n",
        "                  and isclose(c1.price, c2.price)\n",
        "                  and approx_equal_time(c1.posted_datetime, c2.posted_datetime))\n",
        "for i in range(0,100):\n",
        "  a,b = random_scalar(), random_scalar()\n",
        "  u,v,w = random_car(), random_car(), random_car()\n",
        "  test(CarForSale.zero(), approx_equal_car, a,b,u,v,w)"
      ]
    },
    {
      "cell_type": "code",
      "source": [
        "# Somethin must be done\n",
        "from abc import ABCMeta, abstractmethod, abstractproperty\n",
        "\n",
        "def random_scalar():\n",
        "  return uniform(-10,10)\n",
        "\n",
        "def test(zero, eq, a, b, u, v, w):\n",
        "  assert eq(u + v, v + u)\n",
        "  assert eq(u + (v + w), (u + v) + w)\n",
        "  assert eq(a * (b * v), (a * b) * v)\n",
        "  assert eq(1 * v, v)\n",
        "  assert eq((a + b) * v, a * v + b * v)\n",
        "  assert eq(a * v + a * w, a * (v + w))\n",
        "  assert eq(zero + v, v)\n",
        "  assert eq((-1) * v + v, zero)\n",
        "  assert eq(0 * v, zero)\n",
        "  assert eq(1 * v, v)\n",
        "\n",
        "\n",
        "\n",
        "class Vector(metaclass=ABCMeta):\n",
        "    @abstractmethod\n",
        "    def scale(self,scalar):\n",
        "        pass\n",
        "    @abstractmethod\n",
        "    def add(self,other):\n",
        "        pass\n",
        "    def __mul__(self, scalar):\n",
        "        return self.scale(scalar)\n",
        "    def __rmul__(self, scalar):\n",
        "        return self.scale(scalar)\n",
        "    def __add__(self,other):\n",
        "        return self.add(other)\n",
        "    def subtract(self,other):\n",
        "        return self.add(-1 * other)\n",
        "    def __sub__(self,other):\n",
        "        return self.subtract(other)\n",
        "    @classmethod    #1\n",
        "    @abstractproperty #2\n",
        "    def zero():\n",
        "        pass\n",
        "    def __neg__(self): #3\n",
        "        return self.scale(-1)\n",
        "    def __truediv__(self, scalar):\n",
        "        return self.scale(1.0/scalar)\n",
        "\n",
        "class CarForSale(Vector):\n",
        "    retrieved_date = datetime(2018,11,30,12) #1\n",
        "    def __init__(self, model_year, mileage, price, posted_datetime, \n",
        "                 model=\"(virtual)\", source=\"(virtual)\", #2\n",
        "                 location=\"(virtual)\", description=\"(virtual)\"):\n",
        "        self.model_year = model_year\n",
        "        self.mileage = mileage\n",
        "        self.price = price\n",
        "        self.posted_datetime = posted_datetime\n",
        "        self.model = model\n",
        "        self.source = source\n",
        "        self.location = location\n",
        "        self.description = description\n",
        "    def add(self, other):\n",
        "        def add_dates(d1, d2): #3\n",
        "            age1 = CarForSale.retrieved_date - d1\n",
        "            age2 = CarForSale.retrieved_date - d2\n",
        "            sum_age = age1 + age2\n",
        "            return CarForSale.retrieved_date - sum_age\n",
        "        return CarForSale( #4\n",
        "            self.model_year + other.model_year,\n",
        "            self.mileage + other.mileage,\n",
        "            self.price + other.price,\n",
        "            add_dates(self.posted_datetime, other.posted_datetime)\n",
        "        )\n",
        "    def scale(self,scalar):\n",
        "        def scale_date(d): #5\n",
        "            age = CarForSale.retrieved_date - d\n",
        "            return CarForSale.retrieved_date - (scalar * age)\n",
        "        return CarForSale(\n",
        "            scalar * self.model_year,\n",
        "            scalar * self.mileage,\n",
        "            scalar * self.price,\n",
        "            scale_date(self.posted_datetime)\n",
        "        )\n",
        "    @classmethod\n",
        "    def zero(cls):\n",
        "        return CarForSale(0, 0, 0, CarForSale.retrieved_date)"
      ],
      "metadata": {
        "id": "aJ-dTTD_1shv"
      },
      "execution_count": null,
      "outputs": []
    },
    {
      "cell_type": "code",
      "source": [
        "# Exercise 6.10\n",
        "from math import sin\n",
        "import matplotlib as plt\n",
        "# Solution from the book\n",
        "import numpy as np\n",
        "import matplotlib.pyplot as plt\n",
        "from math import sin\n",
        "\n",
        "def plot(fs, xmin, xmax):\n",
        "    xs = np.linspace(xmin,xmax,100)\n",
        "    fig, ax = plt.subplots()\n",
        "    ax.axhline(y=0, color='k')\n",
        "    ax.axvline(x=0, color='k')\n",
        "    for f in fs:\n",
        "        ys = [f(x) for x in xs]\n",
        "        plt.plot(xs,ys)\n",
        "\n",
        "class Function(Vector):\n",
        "  def __init__(self, f):\n",
        "    self.function = f\n",
        "  def add(self, other):\n",
        "    return Function(lambda x: self.function(x) + other.function(x))\n",
        "  def scale(self, scalar):\n",
        "    return Function(lambda x: scalar * self.function(x))\n",
        "  @classmethod\n",
        "  def zero(cls):\n",
        "    return Function(lambda x: 0)\n",
        "  def __call__(self, arg):\n",
        "    return self.function(arg)\n",
        "f = Function(lambda x: 0.5 * x + 3)\n",
        "g = Function(sin)\n",
        "plot([f, g, f+g, 3*g], -10, 10)"
      ],
      "metadata": {
        "colab": {
          "base_uri": "https://localhost:8080/",
          "height": 265
        },
        "id": "HY7Sa5Pu3m61",
        "outputId": "fa6c769d-9240-4960-dcb4-4e129f8d5d9b"
      },
      "execution_count": null,
      "outputs": [
        {
          "output_type": "display_data",
          "data": {
            "text/plain": [
              "<Figure size 432x288 with 1 Axes>"
            ],
            "image/png": "[encoded data removed]"
          },
          "metadata": {
            "needs_background": "light"
          }
        }
      ]
    },
    {
      "cell_type": "code",
      "source": [
        "# Exercise 6.11—Mini Project\n",
        "# Soulution from the book\n",
        "def approx_equal_function(f,g):\n",
        "  results = []\n",
        "  for _ in range(0,10):\n",
        "    x = uniform(-10,10)\n",
        "    results.append(isclose(f(x),g(x)))\n",
        "  return all(results)\n",
        "# I do not think that code above checks functions equality but it is dead-level for me"
      ],
      "metadata": {
        "id": "-nTUGoAz57rH"
      },
      "execution_count": null,
      "outputs": []
    },
    {
      "cell_type": "code",
      "source": [
        "# Exercise 6.12—Mini Project\n",
        "# Solution from the book\n",
        "class Polynomial(Vector):\n",
        "    def __init__(self, *coefficients):\n",
        "        self.coefficients = coefficients\n",
        "    def __call__(self,x):\n",
        "        return sum(coefficient * x ** power for (power,coefficient) in enumerate(self.coefficients))\n",
        "    def add(self,p):\n",
        "        return Polynomial([a + b for a,b in zip(self.coefficients, p.coefficients)])\n",
        "    def scale(self,scalar):\n",
        "        return Polynomial([scalar * a for a in self.coefficients])\n",
        "    def _repr_latex_(self):\n",
        "        monomials = [repr(coefficient) if power == 0 \n",
        "                               else \"x ^ {%d}\" % power if coefficient == 1\n",
        "                               else \"%s x ^ {%d}\" % (coefficient,power) \n",
        "                               for (power,coefficient) in enumerate(self.coefficients) \n",
        "                               if coefficient != 0]\n",
        "        return \"$ %s $\" % (\" + \".join(monomials))\n",
        "    @classmethod\n",
        "    def zero(cls):\n",
        "        return Polynomial(0)\n",
        "\n",
        "def random_function():\n",
        "  degree = randint(0,5)\n",
        "  p = Polynomial(*[uniform(-10,10) for _ in range(0,degree)])\n",
        "  return Function(lambda x: p(x))\n",
        "for i in range(0,100):\n",
        "  a,b = random_scalar(), random_scalar()\n",
        "  u,v,w = random_function(), random_function(), random_function()\n",
        "  test(Function.zero(), approx_equal_function, a,b,u,v,w)"
      ],
      "metadata": {
        "id": "vErAvt2VGxY4"
      },
      "execution_count": null,
      "outputs": []
    },
    {
      "cell_type": "code",
      "source": [
        "for _ in range(5):\n",
        "  degree = randint(0,5)\n",
        "  print(degree, Polynomial(*[uniform(-10,10) for _ in range(0,degree)]))"
      ],
      "metadata": {
        "colab": {
          "base_uri": "https://localhost:8080/"
        },
        "id": "3m-R0oXrQEas",
        "outputId": "77ecba43-622d-4201-bf7f-afb2c9eeea2c"
      },
      "execution_count": null,
      "outputs": [
        {
          "output_type": "stream",
          "name": "stdout",
          "text": [
            "1 <__main__.Polynomial object at 0x7fd4e22097d0>\n",
            "3 <__main__.Polynomial object at 0x7fd4e2262890>\n",
            "2 <__main__.Polynomial object at 0x7fd4e2262890>\n",
            "0 <__main__.Polynomial object at 0x7fd4e2262890>\n",
            "2 <__main__.Polynomial object at 0x7fd4e2262890>\n"
          ]
        }
      ]
    },
    {
      "cell_type": "code",
      "source": [
        "p = Polynomial(*[uniform(-10,10) for _ in range(0,degree)])\n",
        "p(0), p(1), p(2)"
      ],
      "metadata": {
        "colab": {
          "base_uri": "https://localhost:8080/"
        },
        "id": "VBR8Pul5SQe6",
        "outputId": "0cfb4dbc-e852-4b8d-e0d2-bda4b4dc5644"
      },
      "execution_count": null,
      "outputs": [
        {
          "output_type": "execute_result",
          "data": {
            "text/plain": [
              "(-4.116491977752885, -6.744228347826857, -9.371964717900829)"
            ]
          },
          "metadata": {},
          "execution_count": 16
        }
      ]
    },
    {
      "cell_type": "code",
      "source": [
        "uniform(-10,10)"
      ],
      "metadata": {
        "colab": {
          "base_uri": "https://localhost:8080/"
        },
        "id": "vjLCBR-sS5bO",
        "outputId": "f7f3c322-307c-4676-8576-48658a101aa4"
      },
      "execution_count": null,
      "outputs": [
        {
          "output_type": "execute_result",
          "data": {
            "text/plain": [
              "0.06441623823490339"
            ]
          },
          "metadata": {},
          "execution_count": 17
        }
      ]
    },
    {
      "cell_type": "code",
      "source": [
        "# Exercise 6.13—Mini Project\n",
        "# Solution from the book\n",
        "class Function(Vector):\n",
        "  def __init__(self, f):\n",
        "    self.function = f\n",
        "  def add(self, other):\n",
        "    return Function(lambda x,y: self.function(x,y) + other.function(x,y))\n",
        "  def scale(self, scalar):\n",
        "    return Function(lambda x,y: scalar * self.function(x,y))\n",
        "  @classmethod\n",
        "  def zero(cls):\n",
        "    return Function(lambda x,y: 0)\n",
        "  def __call__(self, *args):\n",
        "    return self.function(*args)"
      ],
      "metadata": {
        "id": "4NiTrUPWTHRA"
      },
      "execution_count": null,
      "outputs": []
    },
    {
      "cell_type": "code",
      "source": [
        "f = Function(lambda x,y:x+y)\n",
        "g = Function(lambda x,y: x-y+1)\n",
        "(f+g)(3,10)"
      ],
      "metadata": {
        "colab": {
          "base_uri": "https://localhost:8080/"
        },
        "id": "9ablz_8iU2k6",
        "outputId": "8ba348ae-a638-45a7-9885-933c01172799"
      },
      "execution_count": null,
      "outputs": [
        {
          "output_type": "execute_result",
          "data": {
            "text/plain": [
              "7"
            ]
          },
          "metadata": {},
          "execution_count": 19
        }
      ]
    },
    {
      "cell_type": "code",
      "source": [
        "# Exercise 6.15—Mini Project\n",
        "# Maybe book is awesome, but still have a filling that there a lot of gaps in the narrative\n",
        "# Solution from the book\n",
        "class Matrix(Vector):\n",
        "  @abstractproperty\n",
        "  def rows(self):\n",
        "    pass\n",
        "  @abstractproperty\n",
        "  def columns(self):\n",
        "    pass\n",
        "  def __init__(self,entries):\n",
        "    self.entries = entries\n",
        "  def add(self,other):\n",
        "    return self.__class__(tuple(tuple(self.entries[i][j] + other.entries[i][j]\n",
        "                          for j in range(0,self.columns()))\n",
        "                          for i in range(0,self.rows())))\n",
        "  def scale(self,scalar):\n",
        "    return self.__class__(tuple(tuple(scalar * e for e in row)\n",
        "                          for row in self.entries))\n",
        "  def __repr__(self):\n",
        "    return \"%s%r\" % (self.__class__.__qualname__, self.entries)\n",
        "  def zero(self):\n",
        "    return self.__class__(tuple(tuple(0 for i in range(0,self.columns()))\n",
        "                          for j in range(0,self.rows())))"
      ],
      "metadata": {
        "id": "sprvc9ANWAQ1"
      },
      "execution_count": null,
      "outputs": []
    },
    {
      "cell_type": "code",
      "source": [
        "# Exercise 6.17—Mini Project\n",
        "class LinearMap3d_to_5d(Vector):\n",
        "  def _init_(self, m5_by_3):\n",
        "    self.input_matrix = m5_by_3\n",
        "  def __call__(self):\n",
        "    return self.__class__(tuple(tuple(self.entries[j][i]\n",
        "                          for j in range(0,self.columns()))\n",
        "                          for i in range(0,self.rows())))"
      ],
      "metadata": {
        "id": "s_EZp5HsX5Tk"
      },
      "execution_count": null,
      "outputs": []
    }
  ]
}