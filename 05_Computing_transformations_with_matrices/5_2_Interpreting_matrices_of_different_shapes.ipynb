{
  "nbformat": 4,
  "nbformat_minor": 0,
  "metadata": {
    "colab": {
      "name": "5_2_Interpreting_matrices_of_different_shapes.ipynb",
      "provenance": []
    },
    "kernelspec": {
      "name": "python3",
      "display_name": "Python 3"
    },
    "language_info": {
      "name": "python"
    }
  },
  "cells": [
    {
      "cell_type": "code",
      "execution_count": 1,
      "metadata": {
        "id": "Ou1EFSeel22c"
      },
      "outputs": [],
      "source": [
        "# Exercise 5.12\n",
        "def dot(u,v):\n",
        "    return sum([coord1 * coord2 for coord1,coord2 in zip(u,v)])\n",
        "\n",
        "def matrix_multiply(a,b):\n",
        "  return tuple(\n",
        "      tuple(dot(row,col) for col in zip(*b))\n",
        "      for row in a\n",
        "  )"
      ]
    },
    {
      "cell_type": "code",
      "source": [
        "def matrix_pow(n, matrix):\n",
        "  result = matrix\n",
        "  for i in range(n):\n",
        "    result = matrix_multiply(result, matrix)\n",
        "  return result"
      ],
      "metadata": {
        "id": "EXw8mpgpnEq_"
      },
      "execution_count": 2,
      "outputs": []
    },
    {
      "cell_type": "code",
      "source": [
        "# Almost the same solution from the book\n",
        "def matrix_power(power,matrix):\n",
        "  result = matrix\n",
        "  for _ in range(1,power):\n",
        "    result = matrix_multiply(result,matrix)\n",
        "  return result"
      ],
      "metadata": {
        "id": "iX6cB1wFnkUn"
      },
      "execution_count": null,
      "outputs": []
    }
  ]
}
