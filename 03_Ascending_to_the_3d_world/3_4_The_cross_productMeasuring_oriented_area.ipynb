{
  "nbformat": 4,
  "nbformat_minor": 0,
  "metadata": {
    "colab": {
      "name": "3_4_The_cross_productMeasuring_oriented_area.ipynb",
      "provenance": []
    },
    "kernelspec": {
      "name": "python3",
      "display_name": "Python 3"
    },
    "language_info": {
      "name": "python"
    }
  },
  "cells": [
    {
      "cell_type": "code",
      "execution_count": 1,
      "metadata": {
        "id": "oCJlKetemFLe"
      },
      "outputs": [],
      "source": [
        "def cross(u, v):\n",
        "  ux,uy,uz = u\n",
        "  vx,vy,vz = v\n",
        "  return (uy*vz - uz*vy, uz*vx - ux*vz, ux*vy - uy*vx)"
      ]
    },
    {
      "cell_type": "code",
      "source": [
        "# Exercise 3.21\n",
        "cross((0, 0, 3),(0, -2, 0))"
      ],
      "metadata": {
        "colab": {
          "base_uri": "https://localhost:8080/"
        },
        "id": "blcXWxZ5msc9",
        "outputId": "7365dff9-b7da-469a-db7c-e30ba4f7246e"
      },
      "execution_count": 2,
      "outputs": [
        {
          "output_type": "execute_result",
          "data": {
            "text/plain": [
              "(6, 0, 0)"
            ]
          },
          "metadata": {},
          "execution_count": 2
        }
      ]
    },
    {
      "cell_type": "code",
      "source": [
        "# Exercise 3.22\n",
        "cross((1, -2, 1), (-6, 12, -6))"
      ],
      "metadata": {
        "colab": {
          "base_uri": "https://localhost:8080/"
        },
        "id": "HokKjFP_Hjee",
        "outputId": "e1a007f4-018d-4996-98e8-988da14fcf4e"
      },
      "execution_count": 3,
      "outputs": [
        {
          "output_type": "execute_result",
          "data": {
            "text/plain": [
              "(0, 0, 0)"
            ]
          },
          "metadata": {},
          "execution_count": 3
        }
      ]
    },
    {
      "cell_type": "code",
      "source": [
        "# Exercise 3.24\n",
        "cross((1, 0, 1), (-1, 0, 0))"
      ],
      "metadata": {
        "colab": {
          "base_uri": "https://localhost:8080/"
        },
        "id": "OESLKrZhIELN",
        "outputId": "c95a637d-b47d-4b63-dfcf-daa7bab219a2"
      },
      "execution_count": 4,
      "outputs": [
        {
          "output_type": "execute_result",
          "data": {
            "text/plain": [
              "(0, -1, 0)"
            ]
          },
          "metadata": {},
          "execution_count": 4
        }
      ]
    }
  ]
}