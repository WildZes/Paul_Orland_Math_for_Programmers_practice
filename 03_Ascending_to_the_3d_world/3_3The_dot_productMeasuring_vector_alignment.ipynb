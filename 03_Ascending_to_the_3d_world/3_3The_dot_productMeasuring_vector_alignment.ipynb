{
  "nbformat": 4,
  "nbformat_minor": 0,
  "metadata": {
    "colab": {
      "name": "3_3The_dot_productMeasuring_vector_alignment.ipynb",
      "provenance": []
    },
    "kernelspec": {
      "name": "python3",
      "display_name": "Python 3"
    },
    "language_info": {
      "name": "python"
    }
  },
  "cells": [
    {
      "cell_type": "code",
      "source": [
        "!wget https://raw.githubusercontent.com/WildZes/Paul_Orland_Math_for_Programmers_practice/main/03_Ascending_to_the_3d_world/vectors.py"
      ],
      "metadata": {
        "colab": {
          "base_uri": "https://localhost:8080/"
        },
        "id": "dZEDM2BUivs8",
        "outputId": "09829c91-7756-4649-b404-73b5988e813a"
      },
      "execution_count": 15,
      "outputs": [
        {
          "output_type": "stream",
          "name": "stdout",
          "text": [
            "--2022-07-18 18:21:27--  https://raw.githubusercontent.com/WildZes/Paul_Orland_Math_for_Programmers_practice/main/03_Ascending_to_the_3d_world/vectors.py\n",
            "Resolving raw.githubusercontent.com (raw.githubusercontent.com)... 185.199.108.133, 185.199.109.133, 185.199.110.133, ...\n",
            "Connecting to raw.githubusercontent.com (raw.githubusercontent.com)|185.199.108.133|:443... connected.\n",
            "HTTP request sent, awaiting response... 200 OK\n",
            "Length: 1682 (1.6K) [text/plain]\n",
            "Saving to: ‘vectors.py’\n",
            "\n",
            "vectors.py          100%[===================>]   1.64K  --.-KB/s    in 0s      \n",
            "\n",
            "2022-07-18 18:21:27 (29.4 MB/s) - ‘vectors.py’ saved [1682/1682]\n",
            "\n"
          ]
        }
      ]
    },
    {
      "cell_type": "code",
      "execution_count": 17,
      "metadata": {
        "id": "UiizCswFBeK8"
      },
      "outputs": [],
      "source": [
        "from math import acos, sqrt, pi, cos\n",
        "\n",
        "def length(v):\n",
        "  return sqrt(sum([coord ** 2 for coord in v]))\n",
        "\n",
        "def dot(u,v):\n",
        "  return sum([coord1 * coord2 for coord1,coord2 in zip(u,v)])\n",
        "\n",
        "def angle_between(v1,v2):\n",
        "  return acos(dot(v1,v2) /\n",
        "              (length(v1) * length(v2))\n",
        "              )"
      ]
    },
    {
      "cell_type": "code",
      "source": [
        "# Exercise 3.12\n",
        "u, v = (-1, -1, 1), (1, 2, 1)\n",
        "dot(u,v), angle_between(u,v)*180/pi"
      ],
      "metadata": {
        "colab": {
          "base_uri": "https://localhost:8080/"
        },
        "id": "Dmj50aM-GccV",
        "outputId": "0cbfeeff-7847-4fd5-fe54-9cd534885994"
      },
      "execution_count": 8,
      "outputs": [
        {
          "output_type": "execute_result",
          "data": {
            "text/plain": [
              "(-2, 118.1255057020557)"
            ]
          },
          "metadata": {},
          "execution_count": 8
        }
      ]
    },
    {
      "cell_type": "code",
      "source": [
        "# Exercise 3.13—Mini Project\n",
        "for i in range(100000):\n",
        "  assert(dot(i*u,v)==dot(u,i*v), 'Nope, you did not make it...')"
      ],
      "metadata": {
        "colab": {
          "base_uri": "https://localhost:8080/"
        },
        "id": "BK6AAATjcUbY",
        "outputId": "e8984f0e-9146-4a30-c9d1-aef1f9934e71"
      },
      "execution_count": 13,
      "outputs": [
        {
          "output_type": "stream",
          "name": "stderr",
          "text": [
            "<ipython-input-13-30e9b89e62ea>:3: SyntaxWarning: assertion is always true, perhaps remove parentheses?\n",
            "  assert(dot(i*u,v)==dot(u,i*v), 'Nope, you did not make it...')\n"
          ]
        }
      ]
    },
    {
      "cell_type": "code",
      "source": [
        "# Solution from the book\n",
        "\n",
        "# (su) · v = (sa, sb, sc) · (d, e, f)\n",
        "# = sad + sbe + scf\n",
        "# = s(ad + be + cf)\n",
        "# = s(u · v)\n",
        "\n",
        "# u · (sv) = (a, b , c) · (sd, se, sf )\n",
        "# = asd + bse + csf\n",
        "# = s(ad + be + cf)\n",
        "# = s · (u · v)"
      ],
      "metadata": {
        "id": "yc2MGXyzfBtQ"
      },
      "execution_count": 14,
      "outputs": []
    },
    {
      "cell_type": "code",
      "source": [
        "# Exercise 3.15—Mini Project\n",
        "# Solution from the book\n",
        "from vectors import *\n",
        "from random import random\n",
        "from math import pi\n",
        "def random_vector_of_length(l):\n",
        "  return to_cartesian((l, 2*pi*random()))\n",
        "\n",
        "pairs = [(random_vector_of_length(3), random_vector_of_length(7)) for i in range(0,3)]\n",
        "for u,v in pairs:\n",
        "  print(\"u = %s, v = %s\" % (u,v))\n",
        "  print(\"length of u: %f, length of v: %f, dot product :%f\" %\n",
        "        (length(u), length(v), dot(u,v)))"
      ],
      "metadata": {
        "colab": {
          "base_uri": "https://localhost:8080/"
        },
        "id": "jTg_UPDegeCa",
        "outputId": "5b38b650-c884-46e3-b9ea-3934ddb44b03"
      },
      "execution_count": 19,
      "outputs": [
        {
          "output_type": "stream",
          "name": "stdout",
          "text": [
            "u = (-2.005455749805736, -2.2311762000279387), v = (-3.056811272009005, 6.297293454121277)\n",
            "length of u: 3.000000, length of v: 7.000000, dot product :-7.920072\n",
            "u = (-0.6183572993513514, -2.9355807347676377), v = (3.1183930766482204, 6.267026776671091)\n",
            "length of u: 3.000000, length of v: 7.000000, dot product :-20.325644\n",
            "u = (2.688587978215771, 1.3309750874428987), v = (-5.4215706996602995, 4.42793079762827)\n",
            "length of u: 3.000000, length of v: 7.000000, dot product :-8.682904\n"
          ]
        }
      ]
    },
    {
      "cell_type": "code",
      "source": [
        "# Exercise 3.16\n",
        "u_len, v_len = 3.61, 1.44\n",
        "ang_degree = 101.3\n",
        "\n",
        "alt_dot = u_len*v_len*cos(ang_degree*pi/180)\n",
        "alt_dot"
      ],
      "metadata": {
        "colab": {
          "base_uri": "https://localhost:8080/"
        },
        "id": "5FWyUNqGjKkE",
        "outputId": "55db646e-baaf-414d-ba32-9a21e25d7c2a"
      },
      "execution_count": 18,
      "outputs": [
        {
          "output_type": "execute_result",
          "data": {
            "text/plain": [
              "-1.0186064362303022"
            ]
          },
          "metadata": {},
          "execution_count": 18
        }
      ]
    },
    {
      "cell_type": "code",
      "source": [
        "# Exercise 3.17—Mini Project\n",
        "pol1, pol2 = to_polar((3,4)), to_polar((4,3))\n",
        "if pol1[1]-pol2[1] < pi:\n",
        "  print((pol1[1]-pol2[1])*180/pi, pol1[1]-pol2[1])\n",
        "else:\n",
        "  print((pol2[1]-pol1[1])*180/pi, pol2[1]-pol1[1])\n",
        "print(acos(dot((3,4),(4,3))/25))"
      ],
      "metadata": {
        "colab": {
          "base_uri": "https://localhost:8080/"
        },
        "id": "uJeO7DZFjssO",
        "outputId": "d7ff178f-e1bb-4955-dc26-6803a96f800c"
      },
      "execution_count": 26,
      "outputs": [
        {
          "output_type": "stream",
          "name": "stdout",
          "text": [
            "16.260204708311957 0.2837941092083278\n",
            "0.283794109208328\n"
          ]
        }
      ]
    },
    {
      "cell_type": "code",
      "source": [
        "# Exercise 3.18\n",
        "angle_between((1, 1, 1), (-1, -1, 1))*180/pi"
      ],
      "metadata": {
        "colab": {
          "base_uri": "https://localhost:8080/"
        },
        "id": "gixcuwQskaGm",
        "outputId": "0147234f-4a4f-42d0-edfc-4dd7689f8fd4"
      },
      "execution_count": 28,
      "outputs": [
        {
          "output_type": "execute_result",
          "data": {
            "text/plain": [
              "109.47122063449069"
            ]
          },
          "metadata": {},
          "execution_count": 28
        }
      ]
    }
  ]
}