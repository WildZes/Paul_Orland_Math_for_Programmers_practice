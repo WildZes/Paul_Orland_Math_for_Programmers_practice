{
  "nbformat": 4,
  "nbformat_minor": 0,
  "metadata": {
    "colab": {
      "name": "2_3_Angles_and_trigonometry_in_the_plane.ipynb",
      "provenance": []
    },
    "kernelspec": {
      "name": "python3",
      "display_name": "Python 3"
    },
    "language_info": {
      "name": "python"
    }
  },
  "cells": [
    {
      "cell_type": "code",
      "source": [
        "!wget https://raw.githubusercontent.com/WildZes/Paul_Orland_Math_for_Programmers_practice/main/02_Drawing_with_2D_vectors/vector_drawing.py"
      ],
      "metadata": {
        "colab": {
          "base_uri": "https://localhost:8080/"
        },
        "id": "wAUXPVvN2zMY",
        "outputId": "cc2e5657-dee2-4246-e7d8-4b35a487030f"
      },
      "execution_count": null,
      "outputs": [
        {
          "output_type": "stream",
          "name": "stdout",
          "text": [
            "--2022-07-08 15:24:01--  https://raw.githubusercontent.com/WildZes/Paul_Orland_Math_for_Programmers_practice/main/02_Drawing_with_2D_vectors/vector_drawing.py\n",
            "Resolving raw.githubusercontent.com (raw.githubusercontent.com)... 185.199.108.133, 185.199.109.133, 185.199.110.133, ...\n",
            "Connecting to raw.githubusercontent.com (raw.githubusercontent.com)|185.199.108.133|:443... connected.\n",
            "HTTP request sent, awaiting response... 200 OK\n",
            "Length: 4645 (4.5K) [text/plain]\n",
            "Saving to: ‘vector_drawing.py’\n",
            "\n",
            "\rvector_drawing.py     0%[                    ]       0  --.-KB/s               \rvector_drawing.py   100%[===================>]   4.54K  --.-KB/s    in 0s      \n",
            "\n",
            "2022-07-08 15:24:02 (56.6 MB/s) - ‘vector_drawing.py’ saved [4645/4645]\n",
            "\n"
          ]
        }
      ]
    },
    {
      "cell_type": "code",
      "execution_count": null,
      "metadata": {
        "id": "ZVSNJ76b0lSK"
      },
      "outputs": [],
      "source": [
        "# 2.3.2 Radians and trigonometry in Python\n",
        "from math import sin, cos, atan2, sqrt, tan, pi\n",
        "from vector_drawing import *\n",
        "\n",
        "def length(v):\n",
        "  return sqrt(v[0]**2 + v[1]**2)\n",
        "\n",
        "def to_cartesian(polar_vector):\n",
        "  length, angle = polar_vector[0], polar_vector[1]\n",
        "  return (length*cos(angle), length*sin(angle))\n",
        "\n",
        "def to_polar(vector):\n",
        "  x, y = vector[0], vector[1]\n",
        "  angle = atan2(y,x)\n",
        "  return (length(vector), angle)"
      ]
    },
    {
      "cell_type": "code",
      "source": [
        "# Exercise 2.27\n",
        "v_len, _ = to_polar((-1.34, 2.68))\n",
        "v_len2 = sqrt((-1.34)**2 + 2.68**2)\n",
        "v_len, v_len2"
      ],
      "metadata": {
        "colab": {
          "base_uri": "https://localhost:8080/"
        },
        "id": "anSneRKo_pGS",
        "outputId": "62347c8f-69ca-4422-d26d-739dae013776"
      },
      "execution_count": null,
      "outputs": [
        {
          "output_type": "execute_result",
          "data": {
            "text/plain": [
              "(2.9963310898497184, 2.9963310898497184)"
            ]
          },
          "metadata": {},
          "execution_count": 3
        }
      ]
    },
    {
      "cell_type": "code",
      "source": [
        "# Exercise 2.28\n",
        "tan(0.384)\n",
        "\n",
        "# Solution from the book is observable\n",
        "# The line passes close to the point (10, 4), so 4 / 10 = 0.4 is a reason-\n",
        "# able approximation of tan(22°)"
      ],
      "metadata": {
        "id": "Bw9LvWF6F1wY",
        "colab": {
          "base_uri": "https://localhost:8080/"
        },
        "outputId": "bd594156-daf8-4049-c2d4-86cc4e4d9cc2"
      },
      "execution_count": null,
      "outputs": [
        {
          "output_type": "execute_result",
          "data": {
            "text/plain": [
              "0.40405829031506196"
            ]
          },
          "metadata": {},
          "execution_count": 4
        }
      ]
    },
    {
      "cell_type": "code",
      "source": [
        "# Exercise 2.29\n",
        "to_cartesian((15, 0.6458))\n",
        "\n",
        "# Solution from the book\n",
        "# The sine of 37° is roughly 3/5, which tells us that every 5 units of distance covered\n",
        "# at this angle takes us 3 units upward. So, 15 units of distance give us a vertical\n",
        "# component of 3/5 · 15, or 9.\n",
        "# The cosine of 37° is roughly 4/5, which tells us that each 5 units of distance in this\n",
        "# direction take us 4 units to the right, so the horizontal component is 4/5 · 15 or\n",
        "# 12. In summary, the polar coordinates (15, 37°) correspond approximately to\n",
        "# the Cartesian coordinates (12, 9)."
      ],
      "metadata": {
        "colab": {
          "base_uri": "https://localhost:8080/"
        },
        "id": "IsGh5SigzIbQ",
        "outputId": "92242ba1-f88d-46fc-9ff8-f8671a241996"
      },
      "execution_count": null,
      "outputs": [
        {
          "output_type": "execute_result",
          "data": {
            "text/plain": [
              "(11.979278287972955, 9.027562888138734)"
            ]
          },
          "metadata": {},
          "execution_count": 5
        }
      ]
    },
    {
      "cell_type": "code",
      "source": [
        "# Exercise 2.30\n",
        "draw(Arrow(to_cartesian((8.5, 2.182))))\n",
        "\n",
        "# Solution from the book\n",
        "\n",
        "# x = r · cos() = 8.5 · –0.574 = –4.879\n",
        "# y = r · sin() = 8.5 · 0.819 = 6.962\n",
        "# The final position, (–4.879, 6.962)"
      ],
      "metadata": {
        "id": "K49Ncp7G1Wyx",
        "colab": {
          "base_uri": "https://localhost:8080/",
          "height": 467
        },
        "outputId": "42f8be5e-ff6e-4138-bc3c-ad8130d0f3f1"
      },
      "execution_count": null,
      "outputs": [
        {
          "output_type": "display_data",
          "data": {
            "text/plain": [
              "<Figure size 432x555.429 with 1 Axes>"
            ],
            "image/png": "[encoded data removed]"
          },
          "metadata": {
            "needs_background": "light"
          }
        }
      ]
    },
    {
      "cell_type": "code",
      "source": [
        "# Exercise 2.32\n",
        "sin(0.5236), cos(0.5236), tan(0.5236)"
      ],
      "metadata": {
        "colab": {
          "base_uri": "https://localhost:8080/"
        },
        "id": "OONEEtHY4VBR",
        "outputId": "7a13efad-aed3-4528-f6e3-b14140e53fab"
      },
      "execution_count": null,
      "outputs": [
        {
          "output_type": "execute_result",
          "data": {
            "text/plain": [
              "(0.5000010603626028, 0.866024791582939, 0.5773519017263813)"
            ]
          },
          "metadata": {},
          "execution_count": 7
        }
      ]
    },
    {
      "cell_type": "code",
      "source": [
        "# Exercise 2.35\n",
        "def to_radian(degrees):\n",
        "  return degrees*pi/180"
      ],
      "metadata": {
        "id": "TaZhskXcimy7"
      },
      "execution_count": null,
      "outputs": []
    },
    {
      "cell_type": "code",
      "source": [
        "ex_conv = to_radian(116.57)\n",
        "print('116.57 in radians: ', ex_conv)\n",
        "print('tan(116.57) is: ', tan(ex_conv))"
      ],
      "metadata": {
        "colab": {
          "base_uri": "https://localhost:8080/"
        },
        "id": "rMuOSyFAOJ7m",
        "outputId": "d8e1ec51-b94c-4d66-9b08-f60570e70df2"
      },
      "execution_count": null,
      "outputs": [
        {
          "output_type": "stream",
          "name": "stdout",
          "text": [
            "116.57 in radians:  2.03453030904979\n",
            "tan(116.57) is:  -1.9995682083189954\n"
          ]
        }
      ]
    },
    {
      "cell_type": "code",
      "source": [
        "# Exercise 2.36\n",
        "print('cos: ', cos(10*pi/6))\n",
        "print('sin: ', sin(10*pi/6))"
      ],
      "metadata": {
        "colab": {
          "base_uri": "https://localhost:8080/"
        },
        "id": "Zhl7o9meO2pY",
        "outputId": "dfa5d901-afd2-44c8-c14d-3696956ee6bf"
      },
      "execution_count": null,
      "outputs": [
        {
          "output_type": "stream",
          "name": "stdout",
          "text": [
            "cos:  0.5000000000000001\n",
            "sin:  -0.8660254037844386\n"
          ]
        }
      ]
    },
    {
      "cell_type": "code",
      "source": [
        "# Exercise 2.37\n",
        "polar = [(cos(5*x*pi/500.0), 2*pi*x/1000.0) for x in range(0,1000)]\n",
        "cartesian = [to_cartesian(vec) for vec in polar]\n",
        "draw(*cartesian, grid=None, axes=None, origin=None) "
      ],
      "metadata": {
        "colab": {
          "base_uri": "https://localhost:8080/",
          "height": 330
        },
        "id": "u924XXysYEuX",
        "outputId": "533c60a1-8f3b-447a-fab0-3766f82ebe90"
      },
      "execution_count": null,
      "outputs": [
        {
          "output_type": "error",
          "ename": "ValueError",
          "evalue": "ignored",
          "traceback": [
            "\u001b[0;31m---------------------------------------------------------------------------\u001b[0m",
            "\u001b[0;31mValueError\u001b[0m                                Traceback (most recent call last)",
            "\u001b[0;32m<ipython-input-17-23edbb07be73>\u001b[0m in \u001b[0;36m<module>\u001b[0;34m()\u001b[0m\n\u001b[1;32m      2\u001b[0m \u001b[0mpolar\u001b[0m \u001b[0;34m=\u001b[0m \u001b[0;34m[\u001b[0m\u001b[0;34m(\u001b[0m\u001b[0mcos\u001b[0m\u001b[0;34m(\u001b[0m\u001b[0;36m5\u001b[0m\u001b[0;34m*\u001b[0m\u001b[0mx\u001b[0m\u001b[0;34m*\u001b[0m\u001b[0mpi\u001b[0m\u001b[0;34m/\u001b[0m\u001b[0;36m500.0\u001b[0m\u001b[0;34m)\u001b[0m\u001b[0;34m,\u001b[0m \u001b[0;36m2\u001b[0m\u001b[0;34m*\u001b[0m\u001b[0mpi\u001b[0m\u001b[0;34m*\u001b[0m\u001b[0mx\u001b[0m\u001b[0;34m/\u001b[0m\u001b[0;36m1000.0\u001b[0m\u001b[0;34m)\u001b[0m \u001b[0;32mfor\u001b[0m \u001b[0mx\u001b[0m \u001b[0;32min\u001b[0m \u001b[0mrange\u001b[0m\u001b[0;34m(\u001b[0m\u001b[0;36m0\u001b[0m\u001b[0;34m,\u001b[0m\u001b[0;36m1000\u001b[0m\u001b[0;34m)\u001b[0m\u001b[0;34m]\u001b[0m\u001b[0;34m\u001b[0m\u001b[0;34m\u001b[0m\u001b[0m\n\u001b[1;32m      3\u001b[0m \u001b[0mcartesian\u001b[0m \u001b[0;34m=\u001b[0m \u001b[0;34m[\u001b[0m\u001b[0mto_cartesian\u001b[0m\u001b[0;34m(\u001b[0m\u001b[0mvec\u001b[0m\u001b[0;34m)\u001b[0m \u001b[0;32mfor\u001b[0m \u001b[0mvec\u001b[0m \u001b[0;32min\u001b[0m \u001b[0mpolar\u001b[0m\u001b[0;34m]\u001b[0m\u001b[0;34m\u001b[0m\u001b[0;34m\u001b[0m\u001b[0m\n\u001b[0;32m----> 4\u001b[0;31m \u001b[0mdraw\u001b[0m\u001b[0;34m(\u001b[0m\u001b[0mPolygon\u001b[0m\u001b[0;34m(\u001b[0m\u001b[0mcartesian\u001b[0m\u001b[0;34m,\u001b[0m \u001b[0mcolor\u001b[0m\u001b[0;34m=\u001b[0m\u001b[0mgreen\u001b[0m\u001b[0;34m)\u001b[0m\u001b[0;34m)\u001b[0m\u001b[0;34m\u001b[0m\u001b[0;34m\u001b[0m\u001b[0m\n\u001b[0m",
            "\u001b[0;32m/content/vector_drawing.py\u001b[0m in \u001b[0;36mdraw\u001b[0;34m(origin, axes, grid, nice_aspect_ratio, width, save_as, *objects)\u001b[0m\n\u001b[1;32m     63\u001b[0m \u001b[0;34m\u001b[0m\u001b[0m\n\u001b[1;32m     64\u001b[0m     \u001b[0mall_vectors\u001b[0m \u001b[0;34m=\u001b[0m \u001b[0mlist\u001b[0m\u001b[0;34m(\u001b[0m\u001b[0mextract_vectors\u001b[0m\u001b[0;34m(\u001b[0m\u001b[0mobjects\u001b[0m\u001b[0;34m)\u001b[0m\u001b[0;34m)\u001b[0m\u001b[0;34m\u001b[0m\u001b[0;34m\u001b[0m\u001b[0m\n\u001b[0;32m---> 65\u001b[0;31m     \u001b[0mxs\u001b[0m\u001b[0;34m,\u001b[0m \u001b[0mys\u001b[0m \u001b[0;34m=\u001b[0m \u001b[0mzip\u001b[0m\u001b[0;34m(\u001b[0m\u001b[0;34m*\u001b[0m\u001b[0mall_vectors\u001b[0m\u001b[0;34m)\u001b[0m\u001b[0;34m\u001b[0m\u001b[0;34m\u001b[0m\u001b[0m\n\u001b[0m\u001b[1;32m     66\u001b[0m \u001b[0;34m\u001b[0m\u001b[0m\n\u001b[1;32m     67\u001b[0m     \u001b[0mmax_x\u001b[0m\u001b[0;34m,\u001b[0m \u001b[0mmax_y\u001b[0m\u001b[0;34m,\u001b[0m \u001b[0mmin_x\u001b[0m\u001b[0;34m,\u001b[0m \u001b[0mmin_y\u001b[0m \u001b[0;34m=\u001b[0m \u001b[0mmax\u001b[0m\u001b[0;34m(\u001b[0m\u001b[0;36m0\u001b[0m\u001b[0;34m,\u001b[0m\u001b[0;34m*\u001b[0m\u001b[0mxs\u001b[0m\u001b[0;34m)\u001b[0m\u001b[0;34m,\u001b[0m \u001b[0mmax\u001b[0m\u001b[0;34m(\u001b[0m\u001b[0;36m0\u001b[0m\u001b[0;34m,\u001b[0m\u001b[0;34m*\u001b[0m\u001b[0mys\u001b[0m\u001b[0;34m)\u001b[0m\u001b[0;34m,\u001b[0m \u001b[0mmin\u001b[0m\u001b[0;34m(\u001b[0m\u001b[0;36m0\u001b[0m\u001b[0;34m,\u001b[0m\u001b[0;34m*\u001b[0m\u001b[0mxs\u001b[0m\u001b[0;34m)\u001b[0m\u001b[0;34m,\u001b[0m \u001b[0mmin\u001b[0m\u001b[0;34m(\u001b[0m\u001b[0;36m0\u001b[0m\u001b[0;34m,\u001b[0m\u001b[0;34m*\u001b[0m\u001b[0mys\u001b[0m\u001b[0;34m)\u001b[0m\u001b[0;34m\u001b[0m\u001b[0;34m\u001b[0m\u001b[0m\n",
            "\u001b[0;31mValueError\u001b[0m: too many values to unpack (expected 2)"
          ]
        }
      ]
    },
    {
      "cell_type": "code",
      "source": [
        "# Solution from the book\n",
        "polar_coords = [(cos(x*pi/100.0), 2*pi*x/1000.0) for x in range(0,1000)]\n",
        "vectors = [to_cartesian(p) for p in polar_coords]\n",
        "draw(Polygon(*vectors, color=green))"
      ],
      "metadata": {
        "colab": {
          "base_uri": "https://localhost:8080/",
          "height": 374
        },
        "id": "uH6uQnsZZrkX",
        "outputId": "7a9c3158-ab18-4d09-8eb1-5a7579215170"
      },
      "execution_count": null,
      "outputs": [
        {
          "output_type": "display_data",
          "data": {
            "text/plain": [
              "<Figure size 432x432 with 1 Axes>"
            ],
            "image/png": "[encoded data removed]"
          },
          "metadata": {
            "needs_background": "light"
          }
        }
      ]
    },
    {
      "cell_type": "code",
      "source": [
        "# Exercise 2.38\n",
        "def guess_and_check(guess, cartesian):\n",
        "  g_norm = round(guess,0)\n",
        "  angle_norm = round(atan2(cartesian[1], cartesian[0])*180/pi,0)\n",
        "  return g_norm == angle_norm"
      ],
      "metadata": {
        "id": "UW9ylMSvakkL"
      },
      "execution_count": null,
      "outputs": []
    },
    {
      "cell_type": "code",
      "source": [
        "for i in range(361):\n",
        "  if guess_and_check(i, (-2,3)):\n",
        "    print('Success angle: ', i)\n",
        "    break\n",
        "  if i%60==0:\n",
        "    print('Fail angle: ', i)"
      ],
      "metadata": {
        "colab": {
          "base_uri": "https://localhost:8080/"
        },
        "id": "dB3K5T7Pfy9h",
        "outputId": "d79e48bc-1fe5-4f03-ab86-5c4f688490d6"
      },
      "execution_count": null,
      "outputs": [
        {
          "output_type": "stream",
          "name": "stdout",
          "text": [
            "Fail angle:  0\n",
            "Fail angle:  60\n",
            "Fail angle:  120\n",
            "Success angle:  124\n"
          ]
        }
      ]
    },
    {
      "cell_type": "code",
      "source": [
        "# Exercise 2.41—Mini Project\n",
        "def angle_between(vector1, vector2):\n",
        "  _, angle1 = to_polar(vector1)\n",
        "  _, angle2 = to_polar(vector2)\n",
        "  subs = abs(angle1-angle2)\n",
        "  return subs if subs<pi else 2*pi-subs"
      ],
      "metadata": {
        "id": "r03w_Yh5gbax"
      },
      "execution_count": null,
      "outputs": []
    },
    {
      "cell_type": "code",
      "source": [
        "print(angle_between((-3,0), (-3,-1)), angle_between((1,1),(2,0)), angle_between((-1,-3),(-3,-3)))\n",
        "print(angle_between((-3,0), (-3,-1))*180/pi, angle_between((1,1),(2,0))*180/pi, angle_between((-1,-3),(-3,-3))*180/pi)"
      ],
      "metadata": {
        "colab": {
          "base_uri": "https://localhost:8080/"
        },
        "id": "p8fXEbseY_im",
        "outputId": "3a06a10f-8dd7-4f58-b1f9-e27a355108ee"
      },
      "execution_count": null,
      "outputs": [
        {
          "output_type": "stream",
          "name": "stdout",
          "text": [
            "0.32175055439664213 0.7853981633974483 0.4636476090008059\n",
            "18.434948822922006 45.0 26.565051177077976\n"
          ]
        }
      ]
    }
  ]
}